{
 "cells": [
  {
   "cell_type": "markdown",
   "id": "25d7736c-ba17-4aff-b6bb-66eba20fbf4e",
   "metadata": {},
   "source": [
    "# Lab | Functions"
   ]
  },
  {
   "cell_type": "code",
   "execution_count": 8,
   "id": "1e079e15",
   "metadata": {},
   "outputs": [
    {
     "name": "stdout",
     "output_type": "stream",
     "text": [
      "{'t-shirt': 67, 'mug': 78, 'hat': 89, 'book': 90, 'keychain': 90}\n"
     ]
    }
   ],
   "source": [
    "\n",
    "\n",
    "def initialize_inventory(products):\n",
    "    inventory= {}\n",
    "    for product in products:\n",
    "        quantity=int(input(\"Enter the quantity of {}\".format(product)))\n",
    "        inventory[product]=quantity\n",
    "    return inventory\n",
    "\n",
    "products = [\"t-shirt\", \"mug\", \"hat\", \"book\", \"keychain\"]\n",
    "inventory=initialize_inventory(products)\n",
    "print(inventory)\n",
    "\n"
   ]
  },
  {
   "cell_type": "code",
   "execution_count": 13,
   "id": "123d2613",
   "metadata": {},
   "outputs": [
    {
     "data": {
      "text/plain": [
       "{'book'}"
      ]
     },
     "execution_count": 13,
     "metadata": {},
     "output_type": "execute_result"
    }
   ],
   "source": [
    "def get_customer_orders():\n",
    "    products = [\"t-shirt\", \"mug\", \"hat\", \"book\", \"keychain\"]\n",
    "    customer_orders=set()\n",
    "    place_an_order = input(\"Do you want to place an order: \")\n",
    "    while place_an_order != \"no\":\n",
    "        product_order = input(\"Enter a product: \").strip()\n",
    "        if product_order in products:\n",
    "            customer_orders.add(product_order)\n",
    "        else:\n",
    "            print(f\"{product_order} is not available. Please choose from {products}.\")\n",
    "   \n",
    "        place_an_order = input(\"Do you want to place another order: \")\n",
    "    return customer_orders \n",
    "\n",
    "get_customer_orders()\n"
   ]
  },
  {
   "cell_type": "code",
   "execution_count": 8,
   "id": "049bec5b",
   "metadata": {},
   "outputs": [
    {
     "name": "stdout",
     "output_type": "stream",
     "text": [
      "{'t-shirt': 67, 'mug': 77, 'hat': 88, 'book': 89, 'keychain': 90}\n"
     ]
    }
   ],
   "source": [
    "def update_inventory(customer_orders, inventory):\n",
    "    for customer_order in customer_orders:\n",
    "        inventory[customer_order] = inventory[customer_order] - 1  \n",
    "\n",
    "orders = ('book', 'hat', 'mug')\n",
    "inventory = {'t-shirt': 67, 'mug': 78, 'hat': 89, 'book': 90, 'keychain': 90}\n",
    "update_inventory(orders, inventory)\n",
    "print(inventory)"
   ]
  },
  {
   "cell_type": "code",
   "execution_count": 9,
   "id": "1e53a50b",
   "metadata": {},
   "outputs": [
    {
     "name": "stdout",
     "output_type": "stream",
     "text": [
      "(3, 60.0)\n"
     ]
    }
   ],
   "source": [
    "def calculate_order_statistics(customer_orders, products):\n",
    "    total_products_ordered = len(customer_orders)\n",
    "    total_products = len(products)\n",
    "    percentage_unique_ordered = (total_products_ordered / total_products) * 100\n",
    "    return total_products_ordered, percentage_unique_ordered\n",
    "\n",
    "\n",
    "orders = ('book', 'hat', 'mug')\n",
    "inventory_products = [\"t-shirt\", \"mug\", \"hat\", \"book\", \"keychain\"]\n",
    "order_statistics = calculate_order_statistics(orders, inventory_products)\n",
    "print(order_statistics)"
   ]
  },
  {
   "cell_type": "code",
   "execution_count": 10,
   "id": "622a68b8",
   "metadata": {},
   "outputs": [
    {
     "name": "stdout",
     "output_type": "stream",
     "text": [
      "\n",
      "Order Statistics:\n",
      "Total Products Ordered: 3\n",
      "Percentage of Products Ordered: 60.00%\n"
     ]
    }
   ],
   "source": [
    "def print_order_statistics(order_statistics):\n",
    "    print(\"\\nOrder Statistics:\")\n",
    "    print(f\"Total Products Ordered: {order_statistics[0]}\")\n",
    "    print(f\"Percentage of Products Ordered: {order_statistics[1]:.2f}%\")\n",
    "\n",
    "stats = (3, 60.0)\n",
    "print_order_statistics(stats)"
   ]
  },
  {
   "cell_type": "code",
   "execution_count": 11,
   "id": "3a91f42c",
   "metadata": {},
   "outputs": [
    {
     "name": "stdout",
     "output_type": "stream",
     "text": [
      "Updated Inventory:\n",
      "t-shirt: 67\n",
      "mug: 77\n",
      "hat: 88\n",
      "book: 89\n",
      "keychain: 90\n"
     ]
    }
   ],
   "source": [
    "def print_updated_inventory(inventory):\n",
    "    print(\"Updated Inventory:\")\n",
    "    for product, quantity in inventory.items():\n",
    "        print(f\"{product}: {quantity}\")\n",
    "\n",
    "inventory_products = {'t-shirt': 67, 'mug': 77, 'hat': 88, 'book': 89, 'keychain': 90}\n",
    "print_updated_inventory(inventory_products)"
   ]
  },
  {
   "cell_type": "code",
   "execution_count": 1,
   "id": "e11f94ff",
   "metadata": {},
   "outputs": [
    {
     "name": "stdout",
     "output_type": "stream",
     "text": [
      "key-chain is not available. Please choose from ['t-shirt', 'mug', 'hat', 'book', 'keychain'].\n",
      "\n",
      "Order Statistics:\n",
      "Total Products Ordered: 2\n",
      "Percentage of Products Ordered: 40.00%\n",
      "Updated Inventory:\n",
      "t-shirt: 70\n",
      "mug: 79\n",
      "hat: 89\n",
      "book: 100\n",
      "keychain: 110\n"
     ]
    }
   ],
   "source": [
    "def initialize_inventory(products):\n",
    "    inventory= {}\n",
    "    for product in products:\n",
    "        quantity=int(input(\"Enter the quantity of {}\".format(product)))\n",
    "        inventory[product]=quantity\n",
    "    return inventory\n",
    "\n",
    "def get_customer_orders():\n",
    "    products = [\"t-shirt\", \"mug\", \"hat\", \"book\", \"keychain\"]\n",
    "    customer_orders=set()\n",
    "    place_an_order = input(\"Do you want to place an order: \")\n",
    "    while place_an_order != \"no\":\n",
    "        product_order = input(\"Enter a product: \").strip()\n",
    "        if product_order in products:\n",
    "            customer_orders.add(product_order)\n",
    "        else:\n",
    "            print(f\"{product_order} is not available. Please choose from {products}.\")\n",
    "   \n",
    "        place_an_order = input(\"Do you want to place another order: \")\n",
    "    return customer_orders \n",
    "\n",
    "def calculate_order_statistics(customer_orders, products):\n",
    "    total_products_ordered = len(customer_orders)\n",
    "    total_products = len(products)\n",
    "    percentage_unique_ordered = (total_products_ordered / total_products) * 100\n",
    "    return total_products_ordered, percentage_unique_ordered\n",
    "\n",
    "def update_inventory(customer_orders, inventory):\n",
    "    for customer_order in customer_orders:\n",
    "        inventory[customer_order] = inventory[customer_order] - 1 \n",
    "\n",
    "def print_order_statistics(order_statistics):\n",
    "    print(\"\\nOrder Statistics:\")\n",
    "    print(f\"Total Products Ordered: {order_statistics[0]}\")\n",
    "    print(f\"Percentage of Products Ordered: {order_statistics[1]:.2f}%\")         \n",
    "\n",
    "def print_updated_inventory(inventory):\n",
    "    print(\"Updated Inventory:\")\n",
    "    for product, quantity in inventory.items():\n",
    "        print(f\"{product}: {quantity}\")\n",
    "\n",
    "\n",
    "products = [\"t-shirt\", \"mug\", \"hat\", \"book\", \"keychain\"]\n",
    "inventory = initialize_inventory(products)\n",
    "customer_orders = get_customer_orders()\n",
    "order_statistics = calculate_order_statistics(customer_orders, products)\n",
    "update_inventory(customer_orders, inventory)\n",
    "print_order_statistics(order_statistics)\n",
    "print_updated_inventory(inventory)\n"
   ]
  },
  {
   "cell_type": "markdown",
   "id": "0c581062-8967-4d93-b06e-62833222f930",
   "metadata": {
    "tags": []
   },
   "source": [
    "## Exercise: Managing Customer Orders with Functions\n",
    "\n",
    "In the previous exercise, you improved the code for managing customer orders by using loops and flow control. Now, let's take it a step further and refactor the code by introducing functions.\n",
    "\n",
    "Follow the steps below to complete the exercise:\n",
    "\n",
    "1. Define a function named `initialize_inventory` that takes `products` as a parameter. Inside the function, implement the code for initializing the inventory dictionary using a loop and user input.\n",
    "\n",
    "2. Define a function named `get_customer_orders` that takes no parameters. Inside the function, implement the code for prompting the user to enter the product names using a loop. The function should return the `customer_orders` set.\n",
    "\n",
    "3. Define a function named `update_inventory` that takes `customer_orders` and `inventory` as parameters. Inside the function, implement the code for updating the inventory dictionary based on the customer orders.\n",
    "\n",
    "4. Define a function named `calculate_order_statistics` that takes `customer_orders` and `products` as parameters. Inside the function, implement the code for calculating the order statistics (total products ordered, and percentage of unique products ordered). The function should return these values.\n",
    "\n",
    "5. Define a function named `print_order_statistics` that takes `order_statistics` as a parameter. Inside the function, implement the code for printing the order statistics.\n",
    "\n",
    "6. Define a function named `print_updated_inventory` that takes `inventory` as a parameter. Inside the function, implement the code for printing the updated inventory.\n",
    "\n",
    "7. Call the functions in the appropriate sequence to execute the program and manage customer orders.\n",
    "\n",
    "Hints for functions:\n",
    "\n",
    "- Consider the input parameters required for each function and their return values.\n",
    "- Utilize function parameters and return values to transfer data between functions.\n",
    "- Test your functions individually to ensure they work correctly.\n",
    "\n",
    "\n"
   ]
  }
 ],
 "metadata": {
  "kernelspec": {
   "display_name": "Python 3 (ipykernel)",
   "language": "python",
   "name": "python3"
  },
  "language_info": {
   "codemirror_mode": {
    "name": "ipython",
    "version": 3
   },
   "file_extension": ".py",
   "mimetype": "text/x-python",
   "name": "python",
   "nbconvert_exporter": "python",
   "pygments_lexer": "ipython3",
   "version": "3.12.4"
  }
 },
 "nbformat": 4,
 "nbformat_minor": 5
}
